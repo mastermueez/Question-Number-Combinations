{
 "cells": [
  {
   "cell_type": "code",
   "execution_count": 46,
   "metadata": {},
   "outputs": [],
   "source": [
    "import pandas as pd\n",
    "import numpy as np\n",
    "from math import floor\n",
    "import itertools"
   ]
  },
  {
   "cell_type": "code",
   "execution_count": 47,
   "metadata": {},
   "outputs": [],
   "source": [
    "# User specific variables\n",
    "file_name = \"Student List\"\n",
    "remove_cols = ['T1 (20)', 'T2 ()', 'T3 ()'] # columns that need to be dropped, leave list empty if not required\n",
    "questions_count_total = 9 # total number of questions to choose from\n",
    "questions_count = 5 # number to questions students will answer"
   ]
  },
  {
   "cell_type": "code",
   "execution_count": 48,
   "metadata": {
    "scrolled": true
   },
   "outputs": [
    {
     "data": {
      "text/html": [
       "<div>\n",
       "<style scoped>\n",
       "    .dataframe tbody tr th:only-of-type {\n",
       "        vertical-align: middle;\n",
       "    }\n",
       "\n",
       "    .dataframe tbody tr th {\n",
       "        vertical-align: top;\n",
       "    }\n",
       "\n",
       "    .dataframe thead th {\n",
       "        text-align: right;\n",
       "    }\n",
       "</style>\n",
       "<table border=\"1\" class=\"dataframe\">\n",
       "  <thead>\n",
       "    <tr style=\"text-align: right;\">\n",
       "      <th></th>\n",
       "      <th>ID</th>\n",
       "      <th>Name</th>\n",
       "      <th>T1 (20)</th>\n",
       "      <th>T2 ()</th>\n",
       "      <th>T3 ()</th>\n",
       "    </tr>\n",
       "  </thead>\n",
       "  <tbody>\n",
       "    <tr>\n",
       "      <th>0</th>\n",
       "      <td>2015100000073</td>\n",
       "      <td>Hossain Mohammad Jabir</td>\n",
       "      <td>14.0</td>\n",
       "      <td>NaN</td>\n",
       "      <td>NaN</td>\n",
       "    </tr>\n",
       "    <tr>\n",
       "      <th>1</th>\n",
       "      <td>2015100000077</td>\n",
       "      <td>Pias Ghosh</td>\n",
       "      <td>6.0</td>\n",
       "      <td>NaN</td>\n",
       "      <td>NaN</td>\n",
       "    </tr>\n",
       "    <tr>\n",
       "      <th>2</th>\n",
       "      <td>2015100000139</td>\n",
       "      <td>Md.Shahrukh Hossain</td>\n",
       "      <td>14.0</td>\n",
       "      <td>NaN</td>\n",
       "      <td>NaN</td>\n",
       "    </tr>\n",
       "    <tr>\n",
       "      <th>3</th>\n",
       "      <td>2015100000142</td>\n",
       "      <td>Most. Sumaiya Aktar Shemkey</td>\n",
       "      <td>7.0</td>\n",
       "      <td>NaN</td>\n",
       "      <td>NaN</td>\n",
       "    </tr>\n",
       "    <tr>\n",
       "      <th>4</th>\n",
       "      <td>2016000000247</td>\n",
       "      <td>Ishika Farhad</td>\n",
       "      <td>7.0</td>\n",
       "      <td>NaN</td>\n",
       "      <td>NaN</td>\n",
       "    </tr>\n",
       "  </tbody>\n",
       "</table>\n",
       "</div>"
      ],
      "text/plain": [
       "              ID                         Name  T1 (20)  T2 ()  T3 ()\n",
       "0  2015100000073       Hossain Mohammad Jabir     14.0    NaN    NaN\n",
       "1  2015100000077                   Pias Ghosh      6.0    NaN    NaN\n",
       "2  2015100000139          Md.Shahrukh Hossain     14.0    NaN    NaN\n",
       "3  2015100000142  Most. Sumaiya Aktar Shemkey      7.0    NaN    NaN\n",
       "4  2016000000247                Ishika Farhad      7.0    NaN    NaN"
      ]
     },
     "execution_count": 48,
     "metadata": {},
     "output_type": "execute_result"
    }
   ],
   "source": [
    "df = pd.read_csv(file_name+\".csv\")\n",
    "student_count_total = df.shape[0] # total number of students\n",
    "df.head()"
   ]
  },
  {
   "cell_type": "code",
   "execution_count": 49,
   "metadata": {},
   "outputs": [
    {
     "data": {
      "text/plain": [
       "ID           int64\n",
       "Name        object\n",
       "T1 (20)    float64\n",
       "T2 ()      float64\n",
       "T3 ()      float64\n",
       "dtype: object"
      ]
     },
     "execution_count": 49,
     "metadata": {},
     "output_type": "execute_result"
    }
   ],
   "source": [
    "df.dtypes"
   ]
  },
  {
   "cell_type": "code",
   "execution_count": 50,
   "metadata": {
    "scrolled": true
   },
   "outputs": [],
   "source": [
    "# Drop unwanted columns\n",
    "df = df.drop(remove_cols, axis=1)"
   ]
  },
  {
   "cell_type": "code",
   "execution_count": 51,
   "metadata": {
    "scrolled": true
   },
   "outputs": [
    {
     "data": {
      "text/html": [
       "<div>\n",
       "<style scoped>\n",
       "    .dataframe tbody tr th:only-of-type {\n",
       "        vertical-align: middle;\n",
       "    }\n",
       "\n",
       "    .dataframe tbody tr th {\n",
       "        vertical-align: top;\n",
       "    }\n",
       "\n",
       "    .dataframe thead th {\n",
       "        text-align: right;\n",
       "    }\n",
       "</style>\n",
       "<table border=\"1\" class=\"dataframe\">\n",
       "  <thead>\n",
       "    <tr style=\"text-align: right;\">\n",
       "      <th></th>\n",
       "      <th>ID</th>\n",
       "      <th>Name</th>\n",
       "    </tr>\n",
       "  </thead>\n",
       "  <tbody>\n",
       "    <tr>\n",
       "      <th>17</th>\n",
       "      <td>2018000000031</td>\n",
       "      <td>Tajrin Ahmad Nahin</td>\n",
       "    </tr>\n",
       "    <tr>\n",
       "      <th>4</th>\n",
       "      <td>2016000000247</td>\n",
       "      <td>Ishika Farhad</td>\n",
       "    </tr>\n",
       "    <tr>\n",
       "      <th>8</th>\n",
       "      <td>2017000000097</td>\n",
       "      <td>Md. Istiaq Ahmed</td>\n",
       "    </tr>\n",
       "    <tr>\n",
       "      <th>14</th>\n",
       "      <td>2017100000150</td>\n",
       "      <td>Rabbinur</td>\n",
       "    </tr>\n",
       "    <tr>\n",
       "      <th>21</th>\n",
       "      <td>2018000000046</td>\n",
       "      <td>Swarnali Akter</td>\n",
       "    </tr>\n",
       "  </tbody>\n",
       "</table>\n",
       "</div>"
      ],
      "text/plain": [
       "               ID                Name\n",
       "17  2018000000031  Tajrin Ahmad Nahin\n",
       "4   2016000000247       Ishika Farhad\n",
       "8   2017000000097    Md. Istiaq Ahmed\n",
       "14  2017100000150            Rabbinur\n",
       "21  2018000000046      Swarnali Akter"
      ]
     },
     "execution_count": 51,
     "metadata": {},
     "output_type": "execute_result"
    }
   ],
   "source": [
    "# Shuffle rows\n",
    "df = df.sample(frac=1)\n",
    "df.head()"
   ]
  },
  {
   "cell_type": "code",
   "execution_count": 52,
   "metadata": {},
   "outputs": [],
   "source": [
    "# Create list containing question numbers\n",
    "questions = []\n",
    "for i in range(1,questions_count_total+1):\n",
    "    questions.append(i)\n",
    "\n",
    "# Generating combinations\n",
    "combinations_total = []\n",
    "\n",
    "for subset in itertools.combinations(questions, questions_count):\n",
    "        combinations_total.append(subset)\n",
    "        \n",
    "combinations_count = len(combinations_total)\n",
    "# Making new list containing required number of combinations from all possible combinations\n",
    "combinations_required = []\n",
    "for i in range(0,combinations_count,floor(combinations_count/student_count_total)):\n",
    "    combinations_required.append(combinations_total[i])"
   ]
  },
  {
   "cell_type": "code",
   "execution_count": 57,
   "metadata": {
    "scrolled": true
   },
   "outputs": [],
   "source": [
    "# Create new column\n",
    "col_name = \"Questions\"\n",
    "df[col_name] = \"\"\n",
    "\n",
    "# Add question numbers to dataframe\n",
    "for index, row in df.iterrows():\n",
    "    df.at[index, col_name] = combinations_required[index]"
   ]
  },
  {
   "cell_type": "code",
   "execution_count": 58,
   "metadata": {
    "scrolled": true
   },
   "outputs": [
    {
     "data": {
      "text/html": [
       "<div>\n",
       "<style scoped>\n",
       "    .dataframe tbody tr th:only-of-type {\n",
       "        vertical-align: middle;\n",
       "    }\n",
       "\n",
       "    .dataframe tbody tr th {\n",
       "        vertical-align: top;\n",
       "    }\n",
       "\n",
       "    .dataframe thead th {\n",
       "        text-align: right;\n",
       "    }\n",
       "</style>\n",
       "<table border=\"1\" class=\"dataframe\">\n",
       "  <thead>\n",
       "    <tr style=\"text-align: right;\">\n",
       "      <th></th>\n",
       "      <th>ID</th>\n",
       "      <th>Name</th>\n",
       "      <th>Questions</th>\n",
       "    </tr>\n",
       "  </thead>\n",
       "  <tbody>\n",
       "    <tr>\n",
       "      <th>17</th>\n",
       "      <td>2018000000031</td>\n",
       "      <td>Tajrin Ahmad Nahin</td>\n",
       "      <td>(1, 5, 7, 8, 9)</td>\n",
       "    </tr>\n",
       "    <tr>\n",
       "      <th>4</th>\n",
       "      <td>2016000000247</td>\n",
       "      <td>Ishika Farhad</td>\n",
       "      <td>(1, 2, 4, 5, 7)</td>\n",
       "    </tr>\n",
       "    <tr>\n",
       "      <th>8</th>\n",
       "      <td>2017000000097</td>\n",
       "      <td>Md. Istiaq Ahmed</td>\n",
       "      <td>(1, 2, 6, 7, 9)</td>\n",
       "    </tr>\n",
       "    <tr>\n",
       "      <th>14</th>\n",
       "      <td>2017100000150</td>\n",
       "      <td>Rabbinur</td>\n",
       "      <td>(1, 4, 5, 6, 8)</td>\n",
       "    </tr>\n",
       "    <tr>\n",
       "      <th>21</th>\n",
       "      <td>2018000000046</td>\n",
       "      <td>Swarnali Akter</td>\n",
       "      <td>(2, 3, 5, 7, 9)</td>\n",
       "    </tr>\n",
       "  </tbody>\n",
       "</table>\n",
       "</div>"
      ],
      "text/plain": [
       "               ID                Name        Questions\n",
       "17  2018000000031  Tajrin Ahmad Nahin  (1, 5, 7, 8, 9)\n",
       "4   2016000000247       Ishika Farhad  (1, 2, 4, 5, 7)\n",
       "8   2017000000097    Md. Istiaq Ahmed  (1, 2, 6, 7, 9)\n",
       "14  2017100000150            Rabbinur  (1, 4, 5, 6, 8)\n",
       "21  2018000000046      Swarnali Akter  (2, 3, 5, 7, 9)"
      ]
     },
     "execution_count": 58,
     "metadata": {},
     "output_type": "execute_result"
    }
   ],
   "source": [
    "df.head()"
   ]
  },
  {
   "cell_type": "code",
   "execution_count": 59,
   "metadata": {
    "scrolled": true
   },
   "outputs": [
    {
     "data": {
      "text/html": [
       "<div>\n",
       "<style scoped>\n",
       "    .dataframe tbody tr th:only-of-type {\n",
       "        vertical-align: middle;\n",
       "    }\n",
       "\n",
       "    .dataframe tbody tr th {\n",
       "        vertical-align: top;\n",
       "    }\n",
       "\n",
       "    .dataframe thead th {\n",
       "        text-align: right;\n",
       "    }\n",
       "</style>\n",
       "<table border=\"1\" class=\"dataframe\">\n",
       "  <thead>\n",
       "    <tr style=\"text-align: right;\">\n",
       "      <th></th>\n",
       "      <th>ID</th>\n",
       "      <th>Name</th>\n",
       "      <th>Questions</th>\n",
       "    </tr>\n",
       "  </thead>\n",
       "  <tbody>\n",
       "    <tr>\n",
       "      <th>0</th>\n",
       "      <td>2015100000073</td>\n",
       "      <td>Hossain Mohammad Jabir</td>\n",
       "      <td>(1, 2, 3, 4, 5)</td>\n",
       "    </tr>\n",
       "    <tr>\n",
       "      <th>1</th>\n",
       "      <td>2015100000077</td>\n",
       "      <td>Pias Ghosh</td>\n",
       "      <td>(1, 2, 3, 4, 9)</td>\n",
       "    </tr>\n",
       "    <tr>\n",
       "      <th>2</th>\n",
       "      <td>2015100000139</td>\n",
       "      <td>Md.Shahrukh Hossain</td>\n",
       "      <td>(1, 2, 3, 5, 9)</td>\n",
       "    </tr>\n",
       "    <tr>\n",
       "      <th>3</th>\n",
       "      <td>2015100000142</td>\n",
       "      <td>Most. Sumaiya Aktar Shemkey</td>\n",
       "      <td>(1, 2, 3, 7, 8)</td>\n",
       "    </tr>\n",
       "    <tr>\n",
       "      <th>4</th>\n",
       "      <td>2016000000247</td>\n",
       "      <td>Ishika Farhad</td>\n",
       "      <td>(1, 2, 4, 5, 7)</td>\n",
       "    </tr>\n",
       "  </tbody>\n",
       "</table>\n",
       "</div>"
      ],
      "text/plain": [
       "              ID                         Name        Questions\n",
       "0  2015100000073       Hossain Mohammad Jabir  (1, 2, 3, 4, 5)\n",
       "1  2015100000077                   Pias Ghosh  (1, 2, 3, 4, 9)\n",
       "2  2015100000139          Md.Shahrukh Hossain  (1, 2, 3, 5, 9)\n",
       "3  2015100000142  Most. Sumaiya Aktar Shemkey  (1, 2, 3, 7, 8)\n",
       "4  2016000000247                Ishika Farhad  (1, 2, 4, 5, 7)"
      ]
     },
     "execution_count": 59,
     "metadata": {},
     "output_type": "execute_result"
    }
   ],
   "source": [
    "# Sort rows by ID\n",
    "df = df.sort_values(by=['ID'])\n",
    "df.head()"
   ]
  },
  {
   "cell_type": "code",
   "execution_count": 60,
   "metadata": {},
   "outputs": [],
   "source": [
    "df.to_csv(file_name+\" Question Numbers.csv\", index=False)"
   ]
  },
  {
   "cell_type": "code",
   "execution_count": null,
   "metadata": {},
   "outputs": [],
   "source": []
  }
 ],
 "metadata": {
  "kernelspec": {
   "display_name": "Python 3",
   "language": "python",
   "name": "python3"
  },
  "language_info": {
   "codemirror_mode": {
    "name": "ipython",
    "version": 3
   },
   "file_extension": ".py",
   "mimetype": "text/x-python",
   "name": "python",
   "nbconvert_exporter": "python",
   "pygments_lexer": "ipython3",
   "version": "3.6.8"
  }
 },
 "nbformat": 4,
 "nbformat_minor": 2
}
